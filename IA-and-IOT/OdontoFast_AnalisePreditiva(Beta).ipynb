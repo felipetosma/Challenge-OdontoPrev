{
  "nbformat": 4,
  "nbformat_minor": 0,
  "metadata": {
    "colab": {
      "provenance": []
    },
    "kernelspec": {
      "name": "python3",
      "display_name": "Python 3"
    },
    "language_info": {
      "name": "python"
    }
  },
  "cells": [
    {
      "cell_type": "markdown",
      "source": [
        "## Analise Preditiva dos dados dos pacientes para prever possiveis problemas bucais no futuro."
      ],
      "metadata": {
        "id": "RJt8m9FU8RFr"
      }
    },
    {
      "cell_type": "code",
      "execution_count": null,
      "metadata": {
        "id": "vwW5BnuJ6c_f"
      },
      "outputs": [],
      "source": [
        "# Importação das bibliotecas necessárias\n",
        "import pandas as pd\n",
        "import numpy as np\n",
        "from sklearn.model_selection import train_test_split\n",
        "from sklearn.ensemble import RandomForestClassifier\n",
        "from sklearn.ensemble import RandomForestClassifier\n",
        "from sklearn.tree import DecisionTreeClassifier\n",
        "from sklearn.metrics import classification_report, accuracy_score\n",
        "from sklearn.linear_model import LogisticRegression\n",
        "from sklearn.metrics import classification_report, accuracy_score\n",
        "import seaborn as sns\n",
        "import matplotlib.pyplot as plt"
      ]
    },
    {
      "cell_type": "code",
      "source": [
        "# Carregar os dados (exemplo: 'dados_odontologicos.csv')\n",
        "dados = pd.read_csv('dados_odontologicos.csv')\n",
        "\n",
        "# Visualizar os primeiros registros\n",
        "print(dados.head())"
      ],
      "metadata": {
        "id": "_umaof7u6mOm"
      },
      "execution_count": null,
      "outputs": []
    },
    {
      "cell_type": "code",
      "source": [
        "# Exemplo de transformação categórica e substituição de valores nulos\n",
        "dados['escovacao_frequencia'] = dados['escovacao_frequencia'].fillna(dados['escovacao_frequencia'].mode()[0])\n",
        "\n",
        "# Preenche valores ausentes (nulos) na coluna idade com a média dos valores existentes dessa coluna.\n",
        "dados['idade'] = dados['idade'].fillna(dados['idade'].mean())\n",
        "\n",
        "# Converter as colunas em variáveis numéricas\n",
        "dados = pd.get_dummies(dados, columns=['genero', 'localizacao'], drop_first=True)"
      ],
      "metadata": {
        "id": "1RNgmQXa87IY"
      },
      "execution_count": null,
      "outputs": []
    },
    {
      "cell_type": "markdown",
      "source": [
        "### Algumas possiveis analises exploratorias para entender melhor os números e os dados."
      ],
      "metadata": {
        "id": "5MObmC0c8Z-l"
      }
    },
    {
      "cell_type": "code",
      "source": [
        "# Observar os hábitos de higiene bucal, especialmente a frequência de escovação.\n",
        "plt.figure(figsize=(8, 5))\n",
        "sns.countplot(x='escovacao_frequencia', data=dados)\n",
        "plt.title('Frequência de Escovação')\n",
        "plt.xlabel('Frequência de Escovação')\n",
        "plt.ylabel('Número de Pacientes')\n",
        "plt.show()\n"
      ],
      "metadata": {
        "id": "hfr49hXQ8QMz"
      },
      "execution_count": null,
      "outputs": []
    },
    {
      "cell_type": "code",
      "source": [
        "# Identificar correlações entre variáveis como idade, frequência de escovação (se for numérica)\n",
        "plt.figure(figsize=(10, 8))\n",
        "sns.heatmap(dados.corr(), annot=True, cmap='coolwarm', vmin=-1, vmax=1)\n",
        "plt.title('Mapa de Correlação entre Variáveis')\n",
        "plt.show()\n"
      ],
      "metadata": {
        "id": "H_vkddzv8QKQ"
      },
      "execution_count": null,
      "outputs": []
    },
    {
      "cell_type": "code",
      "source": [
        "# Identificar padrões entre frequência de escovação, uso de fio dental e ocorrência de problemas bucais.\n",
        "plt.figure(figsize=(8, 5))\n",
        "sns.barplot(x='escovacao_frequencia', y='problema_bucal', data=dados, ci=None)\n",
        "plt.title('Frequência de Escovação vs Problemas Bucais')\n",
        "plt.xlabel('Frequência de Escovação')\n",
        "plt.ylabel('Proporção com Problema Bucal')\n",
        "plt.show()"
      ],
      "metadata": {
        "id": "Ds3CXbM_8QFM"
      },
      "execution_count": null,
      "outputs": []
    },
    {
      "cell_type": "code",
      "source": [
        "# Visualizar se a idade influencia a probabilidade de problemas bucais.\n",
        "plt.figure(figsize=(8, 5))\n",
        "sns.boxplot(x='problema_bucal', y='idade', data=dados)\n",
        "plt.title('Distribuição de Idade por Ocorrência de Problemas Bucais')\n",
        "plt.xlabel('Problema Bucal')\n",
        "plt.ylabel('Idade')\n",
        "plt.show()"
      ],
      "metadata": {
        "id": "arJNQcSD9TcI"
      },
      "execution_count": null,
      "outputs": []
    },
    {
      "cell_type": "markdown",
      "source": [
        "## Inicio dos treinos e modelos preditivos"
      ],
      "metadata": {
        "id": "3qSQliLY89QH"
      }
    },
    {
      "cell_type": "code",
      "source": [
        "# Separação de variáveis independentes e dependentes\n",
        "X = dados.drop(['problema_bucal'], axis=1)  # features\n",
        "y = dados['problema_bucal']  # target"
      ],
      "metadata": {
        "id": "UVuw6Qh06mJj"
      },
      "execution_count": null,
      "outputs": []
    },
    {
      "cell_type": "code",
      "source": [
        "# Dividir os dados em conjuntos de treino e teste\n",
        "X_train, X_test, y_train, y_test = train_test_split(X, y, test_size=0.3, random_state=42)\n"
      ],
      "metadata": {
        "id": "G7l-KLRs6mHG"
      },
      "execution_count": null,
      "outputs": []
    },
    {
      "cell_type": "code",
      "source": [
        "# Treinamento do modelo Random Forest\n",
        "rf_model = RandomForestClassifier(random_state=42)\n",
        "rf_model.fit(X_train, y_train)\n",
        "\n",
        "# Treinamento do modelo Decision Tree\n",
        "dt_model = DecisionTreeClassifier(random_state=42)\n",
        "dt_model.fit(X_train, y_train)\n"
      ],
      "metadata": {
        "id": "koY2j24f6mEd"
      },
      "execution_count": null,
      "outputs": []
    },
    {
      "cell_type": "code",
      "source": [
        "# Previsões\n",
        "rf_pred = rf_model.predict(X_test)\n",
        "dt_pred = dt_model.predict(X_test)\n",
        "\n",
        "# Avaliação dos modelos\n",
        "print(\"Random Forest Classifier:\")\n",
        "print(classification_report(y_test, rf_pred))\n",
        "\n",
        "print(\"Decision Tree Classifier:\")\n",
        "print(classification_report(y_test, dt_pred))\n"
      ],
      "metadata": {
        "id": "dJzMwpH26mB3"
      },
      "execution_count": null,
      "outputs": []
    },
    {
      "cell_type": "code",
      "source": [],
      "metadata": {
        "id": "0w_QxAq56l_E"
      },
      "execution_count": null,
      "outputs": []
    },
    {
      "cell_type": "code",
      "source": [],
      "metadata": {
        "id": "0AacYzjI6l8z"
      },
      "execution_count": null,
      "outputs": []
    },
    {
      "cell_type": "code",
      "source": [],
      "metadata": {
        "id": "1YM32YkK6l50"
      },
      "execution_count": null,
      "outputs": []
    }
  ]
}